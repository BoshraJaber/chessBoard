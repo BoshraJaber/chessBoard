{
 "cells": [
  {
   "cell_type": "code",
   "execution_count": 54,
   "metadata": {},
   "outputs": [],
   "source": [
    "%matplotlib inline\n",
    "import numpy as np\n",
    "import matplotlib.pyplot as plt"
   ]
  },
  {
   "cell_type": "code",
   "execution_count": 55,
   "metadata": {},
   "outputs": [],
   "source": [
    "class chessBoard:\n",
    "    white=(1,1,1)\n",
    "    black=(0,0,0)\n",
    "    red=(1,.2,0)\n",
    "    blue=(0,1,1) \n",
    "    def __init__(self):\n",
    "        self.grid=np.zeros((8,8,3)) # all black\n",
    "\n",
    "        # Drawing the board\n",
    "        for col in range(8):\n",
    "            for row in range(8):\n",
    "                if col % 2 == 0 and row%2 == 1: # col is even and row is odd\n",
    "                 self.grid[col,row]= (1,1,1)\n",
    "                if col%2==1 and row%2==0:\n",
    "                    self.grid[col,row]=(1,1,1) \n",
    "        \n",
    "    def add_blue(self,row,column):\n",
    "        self.grid[row,column]=(0,1,1)\n",
    "        chessBoard.blue=[row,column]\n",
    "\n",
    "    def add_red(self,row,column):\n",
    "        self.grid[row,column]=(1,.2,0)\n",
    "        chessBoard.red=[row,column]\n",
    "\n",
    "    def render (self):\n",
    "        plt.imshow(self.grid)\n",
    "\n",
    "#  method that return boolean if red is under attack by a blue piece horizontally, vertically or diagonally\n",
    "    def is_under_attack(self):\n",
    "        if chessBoard.blue[0]==chessBoard.red[0]:\n",
    "            return True\n",
    "        \n",
    "        if chessBoard.blue[1]==chessBoard.red[1]:\n",
    "            return True\n",
    "        \n",
    "        if abs(chessBoard.blue[0]-chessBoard.red[0])==abs(chessBoard.blue[1]-chessBoard.red[1]):\n",
    "            return True\n",
    "\n",
    "        return False"
   ]
  },
  {
   "cell_type": "code",
   "execution_count": 56,
   "metadata": {},
   "outputs": [
    {
     "data": {
      "image/png": "[encoded data removed]",
      "text/plain": [
       "<Figure size 432x288 with 1 Axes>"
      ]
     },
     "metadata": {
      "needs_background": "light"
     },
     "output_type": "display_data"
    }
   ],
   "source": [
    "def test_same_row():\n",
    "    new_chess=chessBoard()\n",
    "    new_chess.add_red(2,6)\n",
    "    new_chess.add_blue(2,2)\n",
    "    new_chess.render()\n",
    "    assert new_chess.is_under_attack() == True\n",
    "\n",
    "test_same_row()"
   ]
  },
  {
   "cell_type": "code",
   "execution_count": null,
   "metadata": {},
   "outputs": [],
   "source": []
  },
  {
   "cell_type": "code",
   "execution_count": 57,
   "metadata": {},
   "outputs": [
    {
     "data": {
      "image/png": "[encoded data removed]",
      "text/plain": [
       "<Figure size 432x288 with 1 Axes>"
      ]
     },
     "metadata": {
      "needs_background": "light"
     },
     "output_type": "display_data"
    }
   ],
   "source": [
    "def test_same_colum():\n",
    "    new_chess=chessBoard()\n",
    "    new_chess.add_red(6,6)\n",
    "    new_chess.add_blue(3,6)\n",
    "    new_chess.render()\n",
    "    assert new_chess.is_under_attack() == True\n",
    "\n",
    "test_same_colum()"
   ]
  },
  {
   "cell_type": "code",
   "execution_count": 58,
   "metadata": {},
   "outputs": [
    {
     "data": {
      "image/png": "[encoded data removed]",
      "text/plain": [
       "<Figure size 432x288 with 1 Axes>"
      ]
     },
     "metadata": {
      "needs_background": "light"
     },
     "output_type": "display_data"
    }
   ],
   "source": [
    "def test_same_diagonal():\n",
    "    new_chess=chessBoard()\n",
    "    new_chess.add_red(6,6)\n",
    "    new_chess.add_blue(2,2)\n",
    "    new_chess.render()\n",
    "    assert new_chess.is_under_attack() == True\n",
    "\n",
    "test_same_diagonal()"
   ]
  },
  {
   "cell_type": "code",
   "execution_count": 59,
   "metadata": {},
   "outputs": [
    {
     "data": {
      "image/png": "[encoded data removed]",
      "text/plain": [
       "<Figure size 432x288 with 1 Axes>"
      ]
     },
     "metadata": {
      "needs_background": "light"
     },
     "output_type": "display_data"
    }
   ],
   "source": [
    "def test_not_under_attack():\n",
    "    new_chess=chessBoard()\n",
    "    new_chess.add_red(1,6)\n",
    "    new_chess.add_blue(2,2)\n",
    "    new_chess.render()\n",
    "    assert new_chess.is_under_attack() == False\n",
    "\n",
    "test_not_under_attack()"
   ]
  }
 ],
 "metadata": {
  "interpreter": {
   "hash": "93d68c1adca8f56ce55bbb7862579dfff4082cf96a81226bf78f2fc5a6632408"
  },
  "kernelspec": {
   "display_name": "Python 3.9.5 64-bit ('.venv': poetry)",
   "name": "python3"
  },
  "language_info": {
   "codemirror_mode": {
    "name": "ipython",
    "version": 3
   },
   "file_extension": ".py",
   "mimetype": "text/x-python",
   "name": "python",
   "nbconvert_exporter": "python",
   "pygments_lexer": "ipython3",
   "version": "3.9.5"
  },
  "orig_nbformat": 4
 },
 "nbformat": 4,
 "nbformat_minor": 2
}
